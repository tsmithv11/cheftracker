{
 "cells": [
  {
   "cell_type": "code",
   "execution_count": 1,
   "metadata": {},
   "outputs": [],
   "source": [
    "import face_recognition\n",
    "import cv2\n",
    "from os import listdir\n",
    "from face_recognition.cli import image_files_in_folder\n",
    "import os\n",
    "from itertools import compress"
   ]
  },
  {
   "cell_type": "code",
   "execution_count": 2,
   "metadata": {},
   "outputs": [
    {
     "data": {
      "text/plain": [
       "61760"
      ]
     },
     "execution_count": 2,
     "metadata": {},
     "output_type": "execute_result"
    }
   ],
   "source": [
    "# Open the input movie file\n",
    "input_movie = cv2.VideoCapture(\"Top_Chef_S15E04.mkv\")\n",
    "length = int(input_movie.get(cv2.CAP_PROP_FRAME_COUNT))\n",
    "length"
   ]
  },
  {
   "cell_type": "code",
   "execution_count": 3,
   "metadata": {},
   "outputs": [],
   "source": [
    "# Encode all faces of contestants and their names in proper format\n",
    "known_faces = []\n",
    "known_names = []\n",
    "appearances = {}\n",
    "for class_dir in listdir(\"Known Faces\"):\n",
    "    temp_path = \"Known Faces/\" + class_dir\n",
    "    \n",
    "    # Encode the faces\n",
    "    temp_image = face_recognition.load_image_file(temp_path)\n",
    "    known_faces.append(face_recognition.face_encodings(temp_image)[0])\n",
    "    \n",
    "    # Proper case names\n",
    "    temp_name, ext = os.path.splitext(class_dir)\n",
    "    temp_name = temp_name.replace(\"-\",\" \").title()\n",
    "    known_names.append(temp_name)\n",
    "    \n",
    "    appearances[temp_name] = 0"
   ]
  },
  {
   "cell_type": "code",
   "execution_count": 4,
   "metadata": {},
   "outputs": [],
   "source": [
    "# Initialize some variables\n",
    "face_locations = []\n",
    "face_encodings = []\n",
    "face_names = []\n",
    "frame_number = 0"
   ]
  },
  {
   "cell_type": "code",
   "execution_count": 5,
   "metadata": {},
   "outputs": [
    {
     "name": "stdout",
     "output_type": "stream",
     "text": [
      "Writing frame 1000 / 61760 = 1.62%\n",
      "Writing frame 2000 / 61760 = 3.24%\n",
      "Writing frame 3000 / 61760 = 4.86%\n",
      "Writing frame 4000 / 61760 = 6.48%\n",
      "Writing frame 5000 / 61760 = 8.10%\n",
      "Writing frame 6000 / 61760 = 9.72%\n",
      "Writing frame 7000 / 61760 = 11.33%\n",
      "Writing frame 8000 / 61760 = 12.95%\n",
      "Writing frame 9000 / 61760 = 14.57%\n",
      "Writing frame 10000 / 61760 = 16.19%\n",
      "Writing frame 11000 / 61760 = 17.81%\n",
      "Writing frame 12000 / 61760 = 19.43%\n",
      "Writing frame 13000 / 61760 = 21.05%\n",
      "Writing frame 14000 / 61760 = 22.67%\n",
      "Writing frame 15000 / 61760 = 24.29%\n",
      "Writing frame 16000 / 61760 = 25.91%\n",
      "Writing frame 17000 / 61760 = 27.53%\n",
      "Writing frame 18000 / 61760 = 29.15%\n",
      "Writing frame 19000 / 61760 = 30.76%\n",
      "Writing frame 20000 / 61760 = 32.38%\n",
      "Writing frame 21000 / 61760 = 34.00%\n",
      "Writing frame 22000 / 61760 = 35.62%\n",
      "Writing frame 23000 / 61760 = 37.24%\n",
      "Writing frame 24000 / 61760 = 38.86%\n",
      "Writing frame 25000 / 61760 = 40.48%\n",
      "Writing frame 26000 / 61760 = 42.10%\n",
      "Writing frame 27000 / 61760 = 43.72%\n",
      "Writing frame 28000 / 61760 = 45.34%\n",
      "Writing frame 29000 / 61760 = 46.96%\n",
      "Writing frame 30000 / 61760 = 48.58%\n",
      "Writing frame 31000 / 61760 = 50.19%\n",
      "Writing frame 32000 / 61760 = 51.81%\n",
      "Writing frame 33000 / 61760 = 53.43%\n",
      "Writing frame 34000 / 61760 = 55.05%\n",
      "Writing frame 35000 / 61760 = 56.67%\n",
      "Writing frame 36000 / 61760 = 58.29%\n",
      "Writing frame 37000 / 61760 = 59.91%\n",
      "Writing frame 38000 / 61760 = 61.53%\n",
      "Writing frame 39000 / 61760 = 63.15%\n",
      "Writing frame 40000 / 61760 = 64.77%\n",
      "Writing frame 41000 / 61760 = 66.39%\n",
      "Writing frame 42000 / 61760 = 68.01%\n",
      "Writing frame 43000 / 61760 = 69.62%\n",
      "Writing frame 44000 / 61760 = 71.24%\n",
      "Writing frame 45000 / 61760 = 72.86%\n",
      "Writing frame 46000 / 61760 = 74.48%\n",
      "Writing frame 47000 / 61760 = 76.10%\n",
      "Writing frame 48000 / 61760 = 77.72%\n",
      "Writing frame 49000 / 61760 = 79.34%\n",
      "Writing frame 50000 / 61760 = 80.96%\n",
      "Writing frame 51000 / 61760 = 82.58%\n",
      "Writing frame 52000 / 61760 = 84.20%\n",
      "Writing frame 53000 / 61760 = 85.82%\n",
      "Writing frame 54000 / 61760 = 87.44%\n",
      "Writing frame 55000 / 61760 = 89.05%\n",
      "Writing frame 56000 / 61760 = 90.67%\n",
      "Writing frame 57000 / 61760 = 92.29%\n",
      "Writing frame 58000 / 61760 = 93.91%\n",
      "Writing frame 59000 / 61760 = 95.53%\n",
      "Writing frame 60000 / 61760 = 97.15%\n",
      "Writing frame 61000 / 61760 = 98.77%\n",
      "Done!\n"
     ]
    }
   ],
   "source": [
    "while True:\n",
    "    # Grab a single frame of video\n",
    "    ret, frame = input_movie.read()\n",
    "    frame_number += 1\n",
    "\n",
    "    # Quit when the input video file ends\n",
    "    if not ret:\n",
    "        break\n",
    "\n",
    "    # Convert the image from BGR color (which OpenCV uses) to RGB color (which face_recognition uses)\n",
    "    rgb_frame = frame[:, :, ::-1]\n",
    "\n",
    "    # Find all the faces and face encodings in the current frame of video\n",
    "    face_locations = face_recognition.face_locations(rgb_frame)\n",
    "    face_encodings = face_recognition.face_encodings(rgb_frame, face_locations)\n",
    "\n",
    "    face_names = []\n",
    "    for face_encoding in face_encodings:\n",
    "        # See if the face is a match for the known face(s)\n",
    "        match = face_recognition.compare_faces(known_faces, face_encoding, tolerance=0.50)\n",
    "        \n",
    "        ### COUNT THE FACES ###\n",
    "        \n",
    "        # Get the name of the face\n",
    "        name = None\n",
    "        if any(match):\n",
    "            name = list(compress(known_names,match))[0]\n",
    "            appearances[name] += 1\n",
    "\n",
    "        face_names.append(name)\n",
    "        \n",
    "    # Track progress\n",
    "    if (frame_number%1000 == 0):\n",
    "        print(\"Writing frame\",frame_number,\"/\",length,\"= {:.2%}\".format(frame_number/length,\"%\"))\n",
    "\n",
    "print(\"Done!\")"
   ]
  },
  {
   "cell_type": "code",
   "execution_count": 6,
   "metadata": {},
   "outputs": [],
   "source": [
    "# All done!\n",
    "input_movie.release()\n",
    "cv2.destroyAllWindows()"
   ]
  },
  {
   "cell_type": "code",
   "execution_count": 7,
   "metadata": {},
   "outputs": [
    {
     "data": {
      "text/plain": [
       "{'Adrienne Cheatham': 934,\n",
       " 'Brother Luck': 2077,\n",
       " 'Bruce Kalman': 2125,\n",
       " 'Carrie Baird': 1242,\n",
       " 'Chris Scott': 2165,\n",
       " 'Claudette Wilkins': 20,\n",
       " 'Fatima Ali': 1466,\n",
       " 'Joe Sasto': 2193,\n",
       " 'Joseph Flamm': 1557,\n",
       " 'Kwame Onwuachi': 0,\n",
       " 'Laura Cole': 6,\n",
       " 'Lee Anne Wong': 1,\n",
       " 'Melissa Perfit': 0,\n",
       " 'Rogelio Garcia': 80,\n",
       " 'Tanya Holland': 1557,\n",
       " 'Tu David Phu': 1362,\n",
       " 'Tyler Anderson': 1493}"
      ]
     },
     "execution_count": 7,
     "metadata": {},
     "output_type": "execute_result"
    }
   ],
   "source": [
    "appearances"
   ]
  },
  {
   "cell_type": "code",
   "execution_count": 8,
   "metadata": {},
   "outputs": [],
   "source": [
    "import csv"
   ]
  },
  {
   "cell_type": "code",
   "execution_count": 9,
   "metadata": {},
   "outputs": [],
   "source": [
    "with open('S15E04.csv', 'w') as f:\n",
    "    fieldnames = ['name', 'frames']\n",
    "    writer = csv.DictWriter(f, fieldnames=fieldnames)\n",
    "    writer.writeheader()\n",
    "    data = [dict(zip(fieldnames, [k, v])) for k, v in appearances.items()]\n",
    "    writer.writerows(data)"
   ]
  },
  {
   "cell_type": "code",
   "execution_count": null,
   "metadata": {},
   "outputs": [],
   "source": []
  }
 ],
 "metadata": {
  "anaconda-cloud": {},
  "kernelspec": {
   "display_name": "Python 3",
   "language": "python",
   "name": "python3"
  },
  "language_info": {
   "codemirror_mode": {
    "name": "ipython",
    "version": 3
   },
   "file_extension": ".py",
   "mimetype": "text/x-python",
   "name": "python",
   "nbconvert_exporter": "python",
   "pygments_lexer": "ipython3",
   "version": "3.5.2"
  }
 },
 "nbformat": 4,
 "nbformat_minor": 2
}
